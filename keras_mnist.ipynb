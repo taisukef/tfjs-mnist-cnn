{
  "nbformat": 4,
  "nbformat_minor": 0,
  "metadata": {
    "colab": {
      "name": "keras-mnist",
      "version": "0.3.2",
      "views": {},
      "default_view": {},
      "provenance": [],
      "collapsed_sections": []
    },
    "kernelspec": {
      "name": "python3",
      "display_name": "Python 3"
    },
    "accelerator": "GPU"
  },
  "cells": [
    {
      "metadata": {
        "id": "S7KDFLsBZ1i0",
        "colab_type": "text"
      },
      "cell_type": "markdown",
      "source": [
        "# TensorFlow.jsで読み込める学習済みモデルの作り方\n",
        "Share URL: [Google Colaboratory](https://drive.google.com/file/d/1o2LfoIo35zxuSXcF5fFBxc6aUinCPOIy/view?usp=sharing)"
      ]
    },
    {
      "metadata": {
        "id": "640ULybtZHeU",
        "colab_type": "text"
      },
      "cell_type": "markdown",
      "source": [
        "## Keras exampleのmnist_cnn.pyを使用して学習する\n",
        "ただし、これにはmodelの保存が含まれていないため、`model.save()`を追加する。"
      ]
    },
    {
      "metadata": {
        "id": "OzqjmJIdzQun",
        "colab_type": "code",
        "colab": {
          "autoexec": {
            "startup": false,
            "wait_interval": 0
          },
          "base_uri": "https://localhost:8080/",
          "height": 204
        },
        "outputId": "82f5d6f5-8c98-4735-b4ad-e594dc60a789",
        "executionInfo": {
          "status": "ok",
          "timestamp": 1523092660724,
          "user_tz": -540,
          "elapsed": 1577,
          "user": {
            "displayName": "Yuta Kanehara",
            "photoUrl": "https://lh3.googleusercontent.com/a/default-user=s128",
            "userId": "107416287770781269927"
          }
        }
      },
      "cell_type": "code",
      "source": [
        "!wget https://raw.githubusercontent.com/keras-team/keras/master/examples/mnist_cnn.py\n",
        "!echo \"model.save('mnist_cnn_model.h5')\" >> mnist_cnn.py"
      ],
      "execution_count": 51,
      "outputs": [
        {
          "output_type": "stream",
          "text": [
            "--2018-04-07 09:17:40--  https://raw.githubusercontent.com/keras-team/keras/master/examples/mnist_cnn.py\r\n",
            "Resolving raw.githubusercontent.com (raw.githubusercontent.com)... 151.101.0.133, 151.101.64.133, 151.101.128.133, ...\r\n",
            "Connecting to raw.githubusercontent.com (raw.githubusercontent.com)|151.101.0.133|:443... connected.\n",
            "HTTP request sent, awaiting response... 200 OK\n",
            "Length: 2257 (2.2K) [text/plain]\n",
            "Saving to: ‘mnist_cnn.py.2’\n",
            "\n",
            "mnist_cnn.py.2      100%[===================>]   2.20K  --.-KB/s    in 0s      \n",
            "\n",
            "2018-04-07 09:17:40 (48.2 MB/s) - ‘mnist_cnn.py.2’ saved [2257/2257]\n",
            "\n"
          ],
          "name": "stdout"
        }
      ]
    },
    {
      "metadata": {
        "id": "lNhUny8vzcR7",
        "colab_type": "code",
        "colab": {
          "autoexec": {
            "startup": false,
            "wait_interval": 0
          },
          "base_uri": "https://localhost:8080/",
          "height": 751
        },
        "outputId": "cd6c09dd-bfac-467c-bd88-ead8d998ac4d",
        "executionInfo": {
          "status": "ok",
          "timestamp": 1523090785004,
          "user_tz": -540,
          "elapsed": 145358,
          "user": {
            "displayName": "Yuta Kanehara",
            "photoUrl": "https://lh3.googleusercontent.com/a/default-user=s128",
            "userId": "107416287770781269927"
          }
        }
      },
      "cell_type": "code",
      "source": [
        "!python3 mnist_cnn.py"
      ],
      "execution_count": 3,
      "outputs": [
        {
          "output_type": "stream",
          "text": [
            "/usr/local/lib/python3.6/dist-packages/h5py/__init__.py:36: FutureWarning: Conversion of the second argument of issubdtype from `float` to `np.floating` is deprecated. In future, it will be treated as `np.float64 == np.dtype(float).type`.\r\n",
            "  from ._conv import register_converters as _register_converters\n",
            "Using TensorFlow backend.\n",
            "Downloading data from https://s3.amazonaws.com/img-datasets/mnist.npz\n",
            "11493376/11490434 [==============================] - 1s 0us/step\n",
            "x_train shape: (60000, 28, 28, 1)\n",
            "60000 train samples\n",
            "10000 test samples\n",
            "Train on 60000 samples, validate on 10000 samples\n",
            "Epoch 1/12\n",
            "2018-04-07 08:44:09.309353: I tensorflow/stream_executor/cuda/cuda_gpu_executor.cc:898] successful NUMA node read from SysFS had negative value (-1), but there must be at least one NUMA node, so returning NUMA node zero\n",
            "2018-04-07 08:44:09.309735: I tensorflow/core/common_runtime/gpu/gpu_device.cc:1212] Found device 0 with properties: \n",
            "name: Tesla K80 major: 3 minor: 7 memoryClockRate(GHz): 0.8235\n",
            "pciBusID: 0000:00:04.0\n",
            "totalMemory: 11.17GiB freeMemory: 11.10GiB\n",
            "2018-04-07 08:44:09.309771: I tensorflow/core/common_runtime/gpu/gpu_device.cc:1312] Adding visible gpu devices: 0\n",
            "2018-04-07 08:44:09.617608: I tensorflow/core/common_runtime/gpu/gpu_device.cc:993] Creating TensorFlow device (/job:localhost/replica:0/task:0/device:GPU:0 with 10765 MB memory) -> physical GPU (device: 0, name: Tesla K80, pci bus id: 0000:00:04.0, compute capability: 3.7)\n",
            "20480/60000 [=========>....................] - ETA: 10s - loss: 0.4898 - acc: 0.8440"
          ],
          "name": "stdout"
        },
        {
          "output_type": "stream",
          "text": [
            "60000/60000 [==============================] - 13s 214us/step - loss: 0.2584 - acc: 0.9193 - val_loss: 0.0544 - val_acc: 0.9813\n",
            "Epoch 2/12\n",
            "60000/60000 [==============================] - 11s 183us/step - loss: 0.0878 - acc: 0.9743 - val_loss: 0.0413 - val_acc: 0.9858\n",
            "Epoch 3/12\n",
            "57216/60000 [===========================>..] - ETA: 0s - loss: 0.0657 - acc: 0.9807"
          ],
          "name": "stdout"
        },
        {
          "output_type": "stream",
          "text": [
            "60000/60000 [==============================] - 11s 182us/step - loss: 0.0659 - acc: 0.9808 - val_loss: 0.0366 - val_acc: 0.9883\n",
            "Epoch 4/12\n",
            "60000/60000 [==============================] - 11s 183us/step - loss: 0.0542 - acc: 0.9838 - val_loss: 0.0339 - val_acc: 0.9894\n",
            "Epoch 5/12\n",
            "60000/60000 [==============================] - 11s 182us/step - loss: 0.0487 - acc: 0.9856 - val_loss: 0.0297 - val_acc: 0.9903\n",
            "Epoch 6/12\n",
            " 3840/60000 [>.............................] - ETA: 10s - loss: 0.0331 - acc: 0.9898"
          ],
          "name": "stdout"
        },
        {
          "output_type": "stream",
          "text": [
            "60000/60000 [==============================] - 11s 182us/step - loss: 0.0435 - acc: 0.9871 - val_loss: 0.0291 - val_acc: 0.9905\n",
            "Epoch 7/12\n",
            "60000/60000 [==============================] - 11s 182us/step - loss: 0.0400 - acc: 0.9881 - val_loss: 0.0283 - val_acc: 0.9910\n",
            "Epoch 8/12\n",
            "53632/60000 [=========================>....] - ETA: 1s - loss: 0.0360 - acc: 0.9886"
          ],
          "name": "stdout"
        },
        {
          "output_type": "stream",
          "text": [
            "60000/60000 [==============================] - 11s 182us/step - loss: 0.0360 - acc: 0.9887 - val_loss: 0.0346 - val_acc: 0.9894\n",
            "Epoch 9/12\n",
            "60000/60000 [==============================] - 11s 181us/step - loss: 0.0347 - acc: 0.9898 - val_loss: 0.0270 - val_acc: 0.9911\n",
            "Epoch 10/12\n",
            "60000/60000 [==============================] - 11s 182us/step - loss: 0.0294 - acc: 0.9907 - val_loss: 0.0276 - val_acc: 0.9914\n",
            "Epoch 11/12\n",
            " 3584/60000 [>.............................] - ETA: 9s - loss: 0.0241 - acc: 0.9922"
          ],
          "name": "stdout"
        },
        {
          "output_type": "stream",
          "text": [
            "60000/60000 [==============================] - 11s 183us/step - loss: 0.0297 - acc: 0.9907 - val_loss: 0.0293 - val_acc: 0.9916\n",
            "Epoch 12/12\n",
            "60000/60000 [==============================] - 11s 182us/step - loss: 0.0259 - acc: 0.9921 - val_loss: 0.0298 - val_acc: 0.9911\n",
            "Test loss: 0.02981478609253936\n",
            "Test accuracy: 0.9911\n"
          ],
          "name": "stdout"
        }
      ]
    },
    {
      "metadata": {
        "id": "djyvLprGaBsu",
        "colab_type": "text"
      },
      "cell_type": "markdown",
      "source": [
        "## `tensorflowjs_converter`でTensorFlow.jsで読み込めるフォーマットに変換"
      ]
    },
    {
      "metadata": {
        "id": "zQ1L4w3KRvd3",
        "colab_type": "code",
        "colab": {
          "autoexec": {
            "startup": false,
            "wait_interval": 0
          },
          "base_uri": "https://localhost:8080/",
          "height": 241
        },
        "outputId": "bce70d6f-8fb9-4766-8bf9-fffa8418270c",
        "executionInfo": {
          "status": "ok",
          "timestamp": 1523092430573,
          "user_tz": -540,
          "elapsed": 7619,
          "user": {
            "displayName": "Yuta Kanehara",
            "photoUrl": "https://lh3.googleusercontent.com/a/default-user=s128",
            "userId": "107416287770781269927"
          }
        }
      },
      "cell_type": "code",
      "source": [
        "!pip3 install -q tensorflowjs\n",
        "!tensorflowjs_converter --input_format keras mnist_cnn_model.h5 model"
      ],
      "execution_count": 41,
      "outputs": [
        {
          "output_type": "stream",
          "text": [
            "/usr/local/lib/python3.6/dist-packages/h5py/__init__.py:36: FutureWarning: Conversion of the second argument of issubdtype from `float` to `np.floating` is deprecated. In future, it will be treated as `np.float64 == np.dtype(float).type`.\r\n",
            "  from ._conv import register_converters as _register_converters\n",
            "Using TensorFlow backend.\n",
            "updating: model/ (stored 0%)\n",
            "updating: model/group3-shard1of2 (deflated 7%)\n",
            "updating: model/model.json (deflated 79%)\n",
            "updating: model/group1-shard1of1 (deflated 3%)\n",
            "updating: model/group2-shard1of1 (deflated 7%)\n",
            "updating: model/group4-shard1of1 (deflated 8%)\n",
            "updating: model/group3-shard2of2 (deflated 8%)\n",
            "ls: unrecognized option '--la'\n",
            "Try 'ls --help' for more information.\n"
          ],
          "name": "stdout"
        }
      ]
    },
    {
      "metadata": {
        "id": "H5PglZJsaIl9",
        "colab_type": "text"
      },
      "cell_type": "markdown",
      "source": [
        "## 変換済みmodelをDL"
      ]
    },
    {
      "metadata": {
        "id": "Eb9ir-Y7SW_Z",
        "colab_type": "code",
        "colab": {
          "autoexec": {
            "startup": false,
            "wait_interval": 0
          },
          "base_uri": "https://localhost:8080/",
          "height": 272
        },
        "outputId": "5bce6977-b3ce-43ce-e57f-e7deb33214f7",
        "executionInfo": {
          "status": "ok",
          "timestamp": 1523092872195,
          "user_tz": -540,
          "elapsed": 7196,
          "user": {
            "displayName": "Yuta Kanehara",
            "photoUrl": "https://lh3.googleusercontent.com/a/default-user=s128",
            "userId": "107416287770781269927"
          }
        }
      },
      "cell_type": "code",
      "source": [
        "!zip -r model.zip model && ls -l\n",
        "import google.colab\n",
        "google.colab.files.download('model.zip')"
      ],
      "execution_count": 52,
      "outputs": [
        {
          "output_type": "stream",
          "text": [
            "updating: model/ (stored 0%)\n",
            "updating: model/group3-shard1of2 (deflated 7%)\n",
            "updating: model/model.json (deflated 79%)\n",
            "updating: model/group1-shard1of1 (deflated 3%)\n",
            "updating: model/group2-shard1of1 (deflated 7%)\n",
            "updating: model/group4-shard1of1 (deflated 8%)\n",
            "updating: model/group3-shard2of2 (deflated 8%)\n",
            "total 18468\n",
            "drwxr-xr-x 1 root root     4096 Mar 13 21:48 datalab\n",
            "-rw-r--r-- 1 root root 14430768 Apr  7 08:46 mnist_cnn_model.h5\n",
            "-rw-r--r-- 1 root root     2290 Apr  7 08:43 mnist_cnn.py\n",
            "-rw-r--r-- 1 root root     2257 Apr  7 09:17 mnist_cnn.py.1\n",
            "-rw-r--r-- 1 root root     2257 Apr  7 09:17 mnist_cnn.py.2\n",
            "drwxr-xr-x 2 root root     4096 Apr  7 08:53 model\n",
            "-rw-r--r-- 1 root root  4443010 Apr  7 09:21 model.zip\n"
          ],
          "name": "stdout"
        }
      ]
    }
  ]
}